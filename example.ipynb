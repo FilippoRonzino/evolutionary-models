{
 "cells": [
  {
   "cell_type": "code",
   "execution_count": null,
   "metadata": {},
   "outputs": [],
   "source": [
    "import numpy as np\n",
    "from deap import base, creator, tools, algorithms"
   ]
  },
  {
   "cell_type": "code",
   "execution_count": null,
   "metadata": {},
   "outputs": [],
   "source": [
    "def roulette_wheel_selection(pop, scores):\n",
    "    population_score = np.sum(scores)\n",
    "    probabilities = [scores[i] / population_score for i in range(len(pop))]\n",
    "    selection_idx = np.random.choice(len(pop), p=probabilities)\n",
    "    \n",
    "    return pop[selection_idx]"
   ]
  },
  {
   "cell_type": "code",
   "execution_count": 2,
   "metadata": {},
   "outputs": [],
   "source": [
    "def tournament_selection(pop, scores, tournament_size=3):\n",
    "    tournament_idxs = np.random.choice(len(pop), size=tournament_size, replace=False)\n",
    "    tournament_scores = [scores[i] for i in tournament_idxs]\n",
    "    selection_idx = tournament_idxs[np.argmax(tournament_scores)]\n",
    "    \n",
    "    return pop[selection_idx]"
   ]
  }
 ],
 "metadata": {
  "kernelspec": {
   "display_name": "30592",
   "language": "python",
   "name": "python3"
  },
  "language_info": {
   "codemirror_mode": {
    "name": "ipython",
    "version": 3
   },
   "file_extension": ".py",
   "mimetype": "text/x-python",
   "name": "python",
   "nbconvert_exporter": "python",
   "pygments_lexer": "ipython3",
   "version": "3.10.16"
  }
 },
 "nbformat": 4,
 "nbformat_minor": 2
}
